{
  "nbformat": 4,
  "nbformat_minor": 0,
  "metadata": {
    "colab": {
      "provenance": []
    },
    "kernelspec": {
      "name": "python3",
      "display_name": "Python 3"
    },
    "language_info": {
      "name": "python"
    }
  },
  "cells": [
    {
      "cell_type": "code",
      "execution_count": 1,
      "metadata": {
        "id": "yOKFRfp7GXB8"
      },
      "outputs": [],
      "source": [
        "import torch"
      ]
    },
    {
      "cell_type": "code",
      "source": [
        "b = torch.tensor([1., 2., 3.])\n",
        "print(b.dtype)"
      ],
      "metadata": {
        "colab": {
          "base_uri": "https://localhost:8080/"
        },
        "id": "Yn-eqft5Gbh7",
        "outputId": "bb68a2c5-d1c4-46c8-de73-b29142633069"
      },
      "execution_count": 2,
      "outputs": [
        {
          "output_type": "stream",
          "name": "stdout",
          "text": [
            "torch.float32\n"
          ]
        }
      ]
    },
    {
      "cell_type": "code",
      "source": [
        "print(b.shape)"
      ],
      "metadata": {
        "colab": {
          "base_uri": "https://localhost:8080/"
        },
        "id": "pRX_v6uwGtEf",
        "outputId": "9c3161d2-f078-4578-ce7a-430ea19c9c61"
      },
      "execution_count": 3,
      "outputs": [
        {
          "output_type": "stream",
          "name": "stdout",
          "text": [
            "torch.Size([3])\n"
          ]
        }
      ]
    },
    {
      "cell_type": "code",
      "source": [
        "print(torch.cuda.is_available())"
      ],
      "metadata": {
        "colab": {
          "base_uri": "https://localhost:8080/"
        },
        "id": "VKOEEkL5G-RH",
        "outputId": "64d355c0-d2ee-4464-d1b4-05239dc59008"
      },
      "execution_count": 4,
      "outputs": [
        {
          "output_type": "stream",
          "name": "stdout",
          "text": [
            "False\n"
          ]
        }
      ]
    },
    {
      "cell_type": "markdown",
      "source": [
        "### Fully Connected layer in torch"
      ],
      "metadata": {
        "id": "iRLh3zUZ-Nf3"
      }
    },
    {
      "cell_type": "code",
      "source": [
        "X = torch.arange(50, dtype=float).view(10, 5)\n",
        "X"
      ],
      "metadata": {
        "colab": {
          "base_uri": "https://localhost:8080/"
        },
        "id": "tuPu3VZxN3UT",
        "outputId": "de3ce6a3-7b5d-4250-da7c-787d7a104dda"
      },
      "execution_count": 5,
      "outputs": [
        {
          "output_type": "execute_result",
          "data": {
            "text/plain": [
              "tensor([[ 0.,  1.,  2.,  3.,  4.],\n",
              "        [ 5.,  6.,  7.,  8.,  9.],\n",
              "        [10., 11., 12., 13., 14.],\n",
              "        [15., 16., 17., 18., 19.],\n",
              "        [20., 21., 22., 23., 24.],\n",
              "        [25., 26., 27., 28., 29.],\n",
              "        [30., 31., 32., 33., 34.],\n",
              "        [35., 36., 37., 38., 39.],\n",
              "        [40., 41., 42., 43., 44.],\n",
              "        [45., 46., 47., 48., 49.]], dtype=torch.float64)"
            ]
          },
          "metadata": {},
          "execution_count": 5
        }
      ]
    },
    {
      "cell_type": "code",
      "source": [
        "fc_layer = torch.nn.Linear(in_features = 5, out_features = 3)"
      ],
      "metadata": {
        "id": "8kI3yXfx-aZK"
      },
      "execution_count": 6,
      "outputs": []
    },
    {
      "cell_type": "code",
      "source": [
        "fc_layer.weight"
      ],
      "metadata": {
        "colab": {
          "base_uri": "https://localhost:8080/"
        },
        "id": "ruv30yzm-k7N",
        "outputId": "10fa581c-349a-4199-db85-e1a81adde2e4"
      },
      "execution_count": 7,
      "outputs": [
        {
          "output_type": "execute_result",
          "data": {
            "text/plain": [
              "Parameter containing:\n",
              "tensor([[-0.1339, -0.3912,  0.0081,  0.0729, -0.4418],\n",
              "        [ 0.0547,  0.2288, -0.1107,  0.3674, -0.0028],\n",
              "        [-0.2782, -0.3820, -0.1122,  0.2293, -0.2217]], requires_grad=True)"
            ]
          },
          "metadata": {},
          "execution_count": 7
        }
      ]
    },
    {
      "cell_type": "code",
      "source": [
        "fc_layer.bias"
      ],
      "metadata": {
        "colab": {
          "base_uri": "https://localhost:8080/"
        },
        "id": "3EMdYJHu-nZQ",
        "outputId": "e8e8d25b-1529-41d9-b2c8-ab6634ab1c95"
      },
      "execution_count": 8,
      "outputs": [
        {
          "output_type": "execute_result",
          "data": {
            "text/plain": [
              "Parameter containing:\n",
              "tensor([-0.3805,  0.1156, -0.4393], requires_grad=True)"
            ]
          },
          "metadata": {},
          "execution_count": 8
        }
      ]
    },
    {
      "cell_type": "markdown",
      "source": [
        "### Linear Regression"
      ],
      "metadata": {
        "id": "X_r-wW0ndm58"
      }
    },
    {
      "cell_type": "code",
      "source": [
        "import numpy as np\n",
        "import pandas as pd\n",
        "import matplotlib.pyplot as plt\n",
        "%matplotlib inline"
      ],
      "metadata": {
        "id": "d2f_gzC2dmVt"
      },
      "execution_count": 9,
      "outputs": []
    },
    {
      "cell_type": "code",
      "source": [
        "df = pd.read_csv(\"/content/linreg-data.csv\", index_col=0)\n",
        "df.head()"
      ],
      "metadata": {
        "colab": {
          "base_uri": "https://localhost:8080/",
          "height": 206
        },
        "id": "9KtKjlyA-p2y",
        "outputId": "a48e05c7-88a6-4623-a069-3cb067dd86df"
      },
      "execution_count": 28,
      "outputs": [
        {
          "output_type": "execute_result",
          "data": {
            "text/plain": [
              "         x1        x2          y\n",
              "0 -2.201441 -0.468864 -30.355617\n",
              "1 -0.291041  0.777277  25.560334\n",
              "2 -0.327755  0.040071  32.797526\n",
              "3 -0.075650  1.821915  72.734577\n",
              "4 -0.862493 -0.467493 -48.072356"
            ],
            "text/html": [
              "\n",
              "  <div id=\"df-681c4ad3-ee6e-4c90-b1c9-fbc81789f551\" class=\"colab-df-container\">\n",
              "    <div>\n",
              "<style scoped>\n",
              "    .dataframe tbody tr th:only-of-type {\n",
              "        vertical-align: middle;\n",
              "    }\n",
              "\n",
              "    .dataframe tbody tr th {\n",
              "        vertical-align: top;\n",
              "    }\n",
              "\n",
              "    .dataframe thead th {\n",
              "        text-align: right;\n",
              "    }\n",
              "</style>\n",
              "<table border=\"1\" class=\"dataframe\">\n",
              "  <thead>\n",
              "    <tr style=\"text-align: right;\">\n",
              "      <th></th>\n",
              "      <th>x1</th>\n",
              "      <th>x2</th>\n",
              "      <th>y</th>\n",
              "    </tr>\n",
              "  </thead>\n",
              "  <tbody>\n",
              "    <tr>\n",
              "      <th>0</th>\n",
              "      <td>-2.201441</td>\n",
              "      <td>-0.468864</td>\n",
              "      <td>-30.355617</td>\n",
              "    </tr>\n",
              "    <tr>\n",
              "      <th>1</th>\n",
              "      <td>-0.291041</td>\n",
              "      <td>0.777277</td>\n",
              "      <td>25.560334</td>\n",
              "    </tr>\n",
              "    <tr>\n",
              "      <th>2</th>\n",
              "      <td>-0.327755</td>\n",
              "      <td>0.040071</td>\n",
              "      <td>32.797526</td>\n",
              "    </tr>\n",
              "    <tr>\n",
              "      <th>3</th>\n",
              "      <td>-0.075650</td>\n",
              "      <td>1.821915</td>\n",
              "      <td>72.734577</td>\n",
              "    </tr>\n",
              "    <tr>\n",
              "      <th>4</th>\n",
              "      <td>-0.862493</td>\n",
              "      <td>-0.467493</td>\n",
              "      <td>-48.072356</td>\n",
              "    </tr>\n",
              "  </tbody>\n",
              "</table>\n",
              "</div>\n",
              "    <div class=\"colab-df-buttons\">\n",
              "\n",
              "  <div class=\"colab-df-container\">\n",
              "    <button class=\"colab-df-convert\" onclick=\"convertToInteractive('df-681c4ad3-ee6e-4c90-b1c9-fbc81789f551')\"\n",
              "            title=\"Convert this dataframe to an interactive table.\"\n",
              "            style=\"display:none;\">\n",
              "\n",
              "  <svg xmlns=\"http://www.w3.org/2000/svg\" height=\"24px\" viewBox=\"0 -960 960 960\">\n",
              "    <path d=\"M120-120v-720h720v720H120Zm60-500h600v-160H180v160Zm220 220h160v-160H400v160Zm0 220h160v-160H400v160ZM180-400h160v-160H180v160Zm440 0h160v-160H620v160ZM180-180h160v-160H180v160Zm440 0h160v-160H620v160Z\"/>\n",
              "  </svg>\n",
              "    </button>\n",
              "\n",
              "  <style>\n",
              "    .colab-df-container {\n",
              "      display:flex;\n",
              "      gap: 12px;\n",
              "    }\n",
              "\n",
              "    .colab-df-convert {\n",
              "      background-color: #E8F0FE;\n",
              "      border: none;\n",
              "      border-radius: 50%;\n",
              "      cursor: pointer;\n",
              "      display: none;\n",
              "      fill: #1967D2;\n",
              "      height: 32px;\n",
              "      padding: 0 0 0 0;\n",
              "      width: 32px;\n",
              "    }\n",
              "\n",
              "    .colab-df-convert:hover {\n",
              "      background-color: #E2EBFA;\n",
              "      box-shadow: 0px 1px 2px rgba(60, 64, 67, 0.3), 0px 1px 3px 1px rgba(60, 64, 67, 0.15);\n",
              "      fill: #174EA6;\n",
              "    }\n",
              "\n",
              "    .colab-df-buttons div {\n",
              "      margin-bottom: 4px;\n",
              "    }\n",
              "\n",
              "    [theme=dark] .colab-df-convert {\n",
              "      background-color: #3B4455;\n",
              "      fill: #D2E3FC;\n",
              "    }\n",
              "\n",
              "    [theme=dark] .colab-df-convert:hover {\n",
              "      background-color: #434B5C;\n",
              "      box-shadow: 0px 1px 3px 1px rgba(0, 0, 0, 0.15);\n",
              "      filter: drop-shadow(0px 1px 2px rgba(0, 0, 0, 0.3));\n",
              "      fill: #FFFFFF;\n",
              "    }\n",
              "  </style>\n",
              "\n",
              "    <script>\n",
              "      const buttonEl =\n",
              "        document.querySelector('#df-681c4ad3-ee6e-4c90-b1c9-fbc81789f551 button.colab-df-convert');\n",
              "      buttonEl.style.display =\n",
              "        google.colab.kernel.accessAllowed ? 'block' : 'none';\n",
              "\n",
              "      async function convertToInteractive(key) {\n",
              "        const element = document.querySelector('#df-681c4ad3-ee6e-4c90-b1c9-fbc81789f551');\n",
              "        const dataTable =\n",
              "          await google.colab.kernel.invokeFunction('convertToInteractive',\n",
              "                                                    [key], {});\n",
              "        if (!dataTable) return;\n",
              "\n",
              "        const docLinkHtml = 'Like what you see? Visit the ' +\n",
              "          '<a target=\"_blank\" href=https://colab.research.google.com/notebooks/data_table.ipynb>data table notebook</a>'\n",
              "          + ' to learn more about interactive tables.';\n",
              "        element.innerHTML = '';\n",
              "        dataTable['output_type'] = 'display_data';\n",
              "        await google.colab.output.renderOutput(dataTable, element);\n",
              "        const docLink = document.createElement('div');\n",
              "        docLink.innerHTML = docLinkHtml;\n",
              "        element.appendChild(docLink);\n",
              "      }\n",
              "    </script>\n",
              "  </div>\n",
              "\n",
              "\n",
              "<div id=\"df-9bdab70f-9c27-4267-a24f-03bd8a017881\">\n",
              "  <button class=\"colab-df-quickchart\" onclick=\"quickchart('df-9bdab70f-9c27-4267-a24f-03bd8a017881')\"\n",
              "            title=\"Suggest charts\"\n",
              "            style=\"display:none;\">\n",
              "\n",
              "<svg xmlns=\"http://www.w3.org/2000/svg\" height=\"24px\"viewBox=\"0 0 24 24\"\n",
              "     width=\"24px\">\n",
              "    <g>\n",
              "        <path d=\"M19 3H5c-1.1 0-2 .9-2 2v14c0 1.1.9 2 2 2h14c1.1 0 2-.9 2-2V5c0-1.1-.9-2-2-2zM9 17H7v-7h2v7zm4 0h-2V7h2v10zm4 0h-2v-4h2v4z\"/>\n",
              "    </g>\n",
              "</svg>\n",
              "  </button>\n",
              "\n",
              "<style>\n",
              "  .colab-df-quickchart {\n",
              "      --bg-color: #E8F0FE;\n",
              "      --fill-color: #1967D2;\n",
              "      --hover-bg-color: #E2EBFA;\n",
              "      --hover-fill-color: #174EA6;\n",
              "      --disabled-fill-color: #AAA;\n",
              "      --disabled-bg-color: #DDD;\n",
              "  }\n",
              "\n",
              "  [theme=dark] .colab-df-quickchart {\n",
              "      --bg-color: #3B4455;\n",
              "      --fill-color: #D2E3FC;\n",
              "      --hover-bg-color: #434B5C;\n",
              "      --hover-fill-color: #FFFFFF;\n",
              "      --disabled-bg-color: #3B4455;\n",
              "      --disabled-fill-color: #666;\n",
              "  }\n",
              "\n",
              "  .colab-df-quickchart {\n",
              "    background-color: var(--bg-color);\n",
              "    border: none;\n",
              "    border-radius: 50%;\n",
              "    cursor: pointer;\n",
              "    display: none;\n",
              "    fill: var(--fill-color);\n",
              "    height: 32px;\n",
              "    padding: 0;\n",
              "    width: 32px;\n",
              "  }\n",
              "\n",
              "  .colab-df-quickchart:hover {\n",
              "    background-color: var(--hover-bg-color);\n",
              "    box-shadow: 0 1px 2px rgba(60, 64, 67, 0.3), 0 1px 3px 1px rgba(60, 64, 67, 0.15);\n",
              "    fill: var(--button-hover-fill-color);\n",
              "  }\n",
              "\n",
              "  .colab-df-quickchart-complete:disabled,\n",
              "  .colab-df-quickchart-complete:disabled:hover {\n",
              "    background-color: var(--disabled-bg-color);\n",
              "    fill: var(--disabled-fill-color);\n",
              "    box-shadow: none;\n",
              "  }\n",
              "\n",
              "  .colab-df-spinner {\n",
              "    border: 2px solid var(--fill-color);\n",
              "    border-color: transparent;\n",
              "    border-bottom-color: var(--fill-color);\n",
              "    animation:\n",
              "      spin 1s steps(1) infinite;\n",
              "  }\n",
              "\n",
              "  @keyframes spin {\n",
              "    0% {\n",
              "      border-color: transparent;\n",
              "      border-bottom-color: var(--fill-color);\n",
              "      border-left-color: var(--fill-color);\n",
              "    }\n",
              "    20% {\n",
              "      border-color: transparent;\n",
              "      border-left-color: var(--fill-color);\n",
              "      border-top-color: var(--fill-color);\n",
              "    }\n",
              "    30% {\n",
              "      border-color: transparent;\n",
              "      border-left-color: var(--fill-color);\n",
              "      border-top-color: var(--fill-color);\n",
              "      border-right-color: var(--fill-color);\n",
              "    }\n",
              "    40% {\n",
              "      border-color: transparent;\n",
              "      border-right-color: var(--fill-color);\n",
              "      border-top-color: var(--fill-color);\n",
              "    }\n",
              "    60% {\n",
              "      border-color: transparent;\n",
              "      border-right-color: var(--fill-color);\n",
              "    }\n",
              "    80% {\n",
              "      border-color: transparent;\n",
              "      border-right-color: var(--fill-color);\n",
              "      border-bottom-color: var(--fill-color);\n",
              "    }\n",
              "    90% {\n",
              "      border-color: transparent;\n",
              "      border-bottom-color: var(--fill-color);\n",
              "    }\n",
              "  }\n",
              "</style>\n",
              "\n",
              "  <script>\n",
              "    async function quickchart(key) {\n",
              "      const quickchartButtonEl =\n",
              "        document.querySelector('#' + key + ' button');\n",
              "      quickchartButtonEl.disabled = true;  // To prevent multiple clicks.\n",
              "      quickchartButtonEl.classList.add('colab-df-spinner');\n",
              "      try {\n",
              "        const charts = await google.colab.kernel.invokeFunction(\n",
              "            'suggestCharts', [key], {});\n",
              "      } catch (error) {\n",
              "        console.error('Error during call to suggestCharts:', error);\n",
              "      }\n",
              "      quickchartButtonEl.classList.remove('colab-df-spinner');\n",
              "      quickchartButtonEl.classList.add('colab-df-quickchart-complete');\n",
              "    }\n",
              "    (() => {\n",
              "      let quickchartButtonEl =\n",
              "        document.querySelector('#df-9bdab70f-9c27-4267-a24f-03bd8a017881 button');\n",
              "      quickchartButtonEl.style.display =\n",
              "        google.colab.kernel.accessAllowed ? 'block' : 'none';\n",
              "    })();\n",
              "  </script>\n",
              "</div>\n",
              "\n",
              "    </div>\n",
              "  </div>\n"
            ],
            "application/vnd.google.colaboratory.intrinsic+json": {
              "type": "dataframe",
              "variable_name": "df",
              "summary": "{\n  \"name\": \"df\",\n  \"rows\": 1000,\n  \"fields\": [\n    {\n      \"column\": \"x1\",\n      \"properties\": {\n        \"dtype\": \"number\",\n        \"std\": 0.982226788347323,\n        \"min\": -3.046143055,\n        \"max\": 2.759355114,\n        \"num_unique_values\": 1000,\n        \"samples\": [\n          0.370055888,\n          1.171041065,\n          2.642935721\n        ],\n        \"semantic_type\": \"\",\n        \"description\": \"\"\n      }\n    },\n    {\n      \"column\": \"x2\",\n      \"properties\": {\n        \"dtype\": \"number\",\n        \"std\": 0.9748727784095248,\n        \"min\": -2.99461286,\n        \"max\": 3.170974773,\n        \"num_unique_values\": 1000,\n        \"samples\": [\n          -0.399449029,\n          0.389093969,\n          -0.91965069\n        ],\n        \"semantic_type\": \"\",\n        \"description\": \"\"\n      }\n    },\n    {\n      \"column\": \"y\",\n      \"properties\": {\n        \"dtype\": \"number\",\n        \"std\": 43.63621377102843,\n        \"min\": -143.7168791,\n        \"max\": 153.9625543,\n        \"num_unique_values\": 1000,\n        \"samples\": [\n          -30.05383626,\n          25.30800399,\n          -26.9002286\n        ],\n        \"semantic_type\": \"\",\n        \"description\": \"\"\n      }\n    }\n  ]\n}"
            }
          },
          "metadata": {},
          "execution_count": 28
        }
      ]
    },
    {
      "cell_type": "code",
      "source": [
        "# Assign the features and target\n",
        "\n",
        "X = torch.tensor(df[[\"x1\", \"x2\"]].values, dtype=torch.float32)\n",
        "y = torch.tensor(df[\"y\"].values, dtype=torch.float32)\n",
        "\n",
        "# Shuffling train/test split\n",
        "\n",
        "torch.manual_seed(123)\n",
        "shuffle_idx = torch.randperm(y.size(0), dtype=torch.long)\n",
        "\n",
        "X, y = X[shuffle_idx], y[shuffle_idx]\n",
        "\n",
        "percent70 = int(shuffle_idx.size(0)*0.70)\n",
        "\n",
        "X_train, y_train = X[:percent70], y[:percent70]\n",
        "X_test, y_test = X[percent70:], y[percent70:]\n",
        "\n",
        "# Normalize (mean zero, unit variance)\n",
        "\n",
        "mu, sigma = X_train.mean(dim=0), X_train.std(dim=0)\n",
        "X_train = (X_train - mu)/sigma\n",
        "X_test = (X_test - mu)/sigma"
      ],
      "metadata": {
        "id": "kKI6rJILd873"
      },
      "execution_count": 29,
      "outputs": []
    },
    {
      "cell_type": "markdown",
      "source": [
        "### Implement Linear Regression Model"
      ],
      "metadata": {
        "id": "LdML92cFgjje"
      }
    },
    {
      "cell_type": "code",
      "source": [
        "class LinearRegression():\n",
        "  def __init__(self, num_features):\n",
        "    self.num_features = num_features\n",
        "    self.weights = torch.zeros(num_features, 1,\n",
        "                               dtype=torch.float)\n",
        "    self.bias = torch.zeros(1, dtype=torch.float)\n",
        "\n",
        "\n",
        "  def forward(self, x):\n",
        "    netinputs = netinputs = torch.mm(x, self.weights) + self.bias\n",
        "    activations = netinputs\n",
        "    return activations.view(-1)\n",
        "\n",
        "  def backward(self, x, yhat, y):\n",
        "    grad_loss_yhat = 2*(yhat - y)\n",
        "    grad_yhat_weights = x\n",
        "    grad_yhat_bias = 1.\n",
        "\n",
        "    # Chain rule: Inner times outer\n",
        "\n",
        "    grad_loss_weights = torch.mm(grad_yhat_weights.t(), grad_loss_yhat.view(-1, 1)) / y.size(0)\n",
        "\n",
        "    grad_loss_bias = torch.sum(grad_yhat_bias*grad_loss_yhat) / y.size(0)\n",
        "\n",
        "    #return negative gradient\n",
        "\n",
        "    return (-1)*grad_loss_weights, (-1)*grad_loss_bias"
      ],
      "metadata": {
        "id": "hFE8wbkEgPdG"
      },
      "execution_count": 42,
      "outputs": []
    },
    {
      "cell_type": "code",
      "source": [
        "# Training and Evaluation Functions\n",
        "def loss(yhat, y):\n",
        "  return torch.mean((yhat - y)**2)\n",
        "\n",
        "def train(model, x, y, num_epochs, learning_rate = 0.01):\n",
        "  cost = []\n",
        "  for e in range(num_epochs):\n",
        "    # compute outputs\n",
        "    yhat = model.forward(x)\n",
        "\n",
        "    #compute gradients\n",
        "    negative_grad_w, negative_grad_b = model.backward(x, yhat, y)\n",
        "\n",
        "    #update weights\n",
        "    model.weights +=learning_rate * negative_grad_w\n",
        "    model.bias += learning_rate * negative_grad_b\n",
        "\n",
        "    #logging\n",
        "    yhat = model.forward(x)\n",
        "    curr_loss = loss(yhat, y)\n",
        "    print(\"Epoch: %03d\" % (e+1), end = \" \")\n",
        "    print(\"Loss MSE: %0.5f\" % curr_loss)\n",
        "    cost.append(curr_loss)\n",
        "  return cost"
      ],
      "metadata": {
        "id": "3LGSYP1b6Ndt"
      },
      "execution_count": 43,
      "outputs": []
    },
    {
      "cell_type": "code",
      "source": [
        "#Training Linear Regression Model\n",
        "model = LinearRegression(num_features=X_train.size(1))\n",
        "cost = train(model,\n",
        "             X_train, y_train,\n",
        "             num_epochs = 100,\n",
        "             learning_rate = 0.01)"
      ],
      "metadata": {
        "colab": {
          "base_uri": "https://localhost:8080/"
        },
        "id": "PH0dm73z8B4J",
        "outputId": "38eb32bf-618e-4b05-dcfc-87b47af81158"
      },
      "execution_count": 50,
      "outputs": [
        {
          "output_type": "stream",
          "name": "stdout",
          "text": [
            "Epoch: 001 Loss MSE: 1921.43640\n",
            "Epoch: 002 Loss MSE: 1860.66553\n",
            "Epoch: 003 Loss MSE: 1802.29749\n",
            "Epoch: 004 Loss MSE: 1746.23682\n",
            "Epoch: 005 Loss MSE: 1692.39307\n",
            "Epoch: 006 Loss MSE: 1640.67798\n",
            "Epoch: 007 Loss MSE: 1591.00769\n",
            "Epoch: 008 Loss MSE: 1543.30103\n",
            "Epoch: 009 Loss MSE: 1497.48096\n",
            "Epoch: 010 Loss MSE: 1453.47229\n",
            "Epoch: 011 Loss MSE: 1411.20374\n",
            "Epoch: 012 Loss MSE: 1370.60632\n",
            "Epoch: 013 Loss MSE: 1331.61389\n",
            "Epoch: 014 Loss MSE: 1294.16345\n",
            "Epoch: 015 Loss MSE: 1258.19336\n",
            "Epoch: 016 Loss MSE: 1223.64551\n",
            "Epoch: 017 Loss MSE: 1190.46362\n",
            "Epoch: 018 Loss MSE: 1158.59363\n",
            "Epoch: 019 Loss MSE: 1127.98376\n",
            "Epoch: 020 Loss MSE: 1098.58398\n",
            "Epoch: 021 Loss MSE: 1070.34656\n",
            "Epoch: 022 Loss MSE: 1043.22559\n",
            "Epoch: 023 Loss MSE: 1017.17694\n",
            "Epoch: 024 Loss MSE: 992.15814\n",
            "Epoch: 025 Loss MSE: 968.12842\n",
            "Epoch: 026 Loss MSE: 945.04877\n",
            "Epoch: 027 Loss MSE: 922.88153\n",
            "Epoch: 028 Loss MSE: 901.59082\n",
            "Epoch: 029 Loss MSE: 881.14178\n",
            "Epoch: 030 Loss MSE: 861.50122\n",
            "Epoch: 031 Loss MSE: 842.63702\n",
            "Epoch: 032 Loss MSE: 824.51892\n",
            "Epoch: 033 Loss MSE: 807.11694\n",
            "Epoch: 034 Loss MSE: 790.40302\n",
            "Epoch: 035 Loss MSE: 774.34973\n",
            "Epoch: 036 Loss MSE: 758.93115\n",
            "Epoch: 037 Loss MSE: 744.12231\n",
            "Epoch: 038 Loss MSE: 729.89886\n",
            "Epoch: 039 Loss MSE: 716.23761\n",
            "Epoch: 040 Loss MSE: 703.11664\n",
            "Epoch: 041 Loss MSE: 690.51428\n",
            "Epoch: 042 Loss MSE: 678.41022\n",
            "Epoch: 043 Loss MSE: 666.78455\n",
            "Epoch: 044 Loss MSE: 655.61859\n",
            "Epoch: 045 Loss MSE: 644.89404\n",
            "Epoch: 046 Loss MSE: 634.59351\n",
            "Epoch: 047 Loss MSE: 624.70020\n",
            "Epoch: 048 Loss MSE: 615.19806\n",
            "Epoch: 049 Loss MSE: 606.07141\n",
            "Epoch: 050 Loss MSE: 597.30573\n",
            "Epoch: 051 Loss MSE: 588.88647\n",
            "Epoch: 052 Loss MSE: 580.80017\n",
            "Epoch: 053 Loss MSE: 573.03351\n",
            "Epoch: 054 Loss MSE: 565.57391\n",
            "Epoch: 055 Loss MSE: 558.40912\n",
            "Epoch: 056 Loss MSE: 551.52765\n",
            "Epoch: 057 Loss MSE: 544.91815\n",
            "Epoch: 058 Loss MSE: 538.57007\n",
            "Epoch: 059 Loss MSE: 532.47278\n",
            "Epoch: 060 Loss MSE: 526.61658\n",
            "Epoch: 061 Loss MSE: 520.99207\n",
            "Epoch: 062 Loss MSE: 515.58972\n",
            "Epoch: 063 Loss MSE: 510.40097\n",
            "Epoch: 064 Loss MSE: 505.41736\n",
            "Epoch: 065 Loss MSE: 500.63080\n",
            "Epoch: 066 Loss MSE: 496.03339\n",
            "Epoch: 067 Loss MSE: 491.61777\n",
            "Epoch: 068 Loss MSE: 487.37671\n",
            "Epoch: 069 Loss MSE: 483.30322\n",
            "Epoch: 070 Loss MSE: 479.39084\n",
            "Epoch: 071 Loss MSE: 475.63312\n",
            "Epoch: 072 Loss MSE: 472.02402\n",
            "Epoch: 073 Loss MSE: 468.55750\n",
            "Epoch: 074 Loss MSE: 465.22800\n",
            "Epoch: 075 Loss MSE: 462.03012\n",
            "Epoch: 076 Loss MSE: 458.95871\n",
            "Epoch: 077 Loss MSE: 456.00870\n",
            "Epoch: 078 Loss MSE: 453.17526\n",
            "Epoch: 079 Loss MSE: 450.45389\n",
            "Epoch: 080 Loss MSE: 447.84006\n",
            "Epoch: 081 Loss MSE: 445.32959\n",
            "Epoch: 082 Loss MSE: 442.91833\n",
            "Epoch: 083 Loss MSE: 440.60245\n",
            "Epoch: 084 Loss MSE: 438.37802\n",
            "Epoch: 085 Loss MSE: 436.24161\n",
            "Epoch: 086 Loss MSE: 434.18964\n",
            "Epoch: 087 Loss MSE: 432.21878\n",
            "Epoch: 088 Loss MSE: 430.32571\n",
            "Epoch: 089 Loss MSE: 428.50763\n",
            "Epoch: 090 Loss MSE: 426.76135\n",
            "Epoch: 091 Loss MSE: 425.08408\n",
            "Epoch: 092 Loss MSE: 423.47318\n",
            "Epoch: 093 Loss MSE: 421.92584\n",
            "Epoch: 094 Loss MSE: 420.43979\n",
            "Epoch: 095 Loss MSE: 419.01242\n",
            "Epoch: 096 Loss MSE: 417.64148\n",
            "Epoch: 097 Loss MSE: 416.32474\n",
            "Epoch: 098 Loss MSE: 415.06000\n",
            "Epoch: 099 Loss MSE: 413.84531\n",
            "Epoch: 100 Loss MSE: 412.67865\n"
          ]
        }
      ]
    },
    {
      "cell_type": "markdown",
      "source": [
        "### Evaluate the linear regression model"
      ],
      "metadata": {
        "id": "B58nKgL4Po7l"
      }
    },
    {
      "cell_type": "code",
      "source": [
        "# plot mse\n",
        "plt.plot(range(len(cost)), cost)\n",
        "plt.ylabel(\"Mean Squared Error\")\n",
        "plt.xlabel(\"Epoch\")\n",
        "plt.show()"
      ],
      "metadata": {
        "colab": {
          "base_uri": "https://localhost:8080/",
          "height": 449
        },
        "id": "MVi6W2Fo9EwK",
        "outputId": "8ae2aba2-cc34-41ef-9f0a-f73516011d5f"
      },
      "execution_count": 51,
      "outputs": [
        {
          "output_type": "display_data",
          "data": {
            "text/plain": [
              "<Figure size 640x480 with 1 Axes>"
            ],
            "image/png": "[encoded data removed]"
          },
          "metadata": {}
        }
      ]
    },
    {
      "cell_type": "code",
      "source": [
        "train_pred = model.forward(X_train)\n",
        "test_pred = model.forward(X_test)\n",
        "\n",
        "print(\"Train MSE: %.5f\" % loss(train_pred, y_train))\n",
        "print(\"Test MSE: %.5f\" % loss(test_pred, y_test))"
      ],
      "metadata": {
        "colab": {
          "base_uri": "https://localhost:8080/"
        },
        "id": "tUiWax6yP9UQ",
        "outputId": "3e9f1826-86eb-474d-d8e1-3d9b497d806e"
      },
      "execution_count": 52,
      "outputs": [
        {
          "output_type": "stream",
          "name": "stdout",
          "text": [
            "Train MSE: 412.67865\n",
            "Test MSE: 395.01062\n"
          ]
        }
      ]
    },
    {
      "cell_type": "markdown",
      "source": [
        "### Autograd Example"
      ],
      "metadata": {
        "id": "MdQS60jWX48o"
      }
    },
    {
      "cell_type": "code",
      "source": [
        "from torch.autograd import grad\n",
        "import torch.nn.functional as F"
      ],
      "metadata": {
        "id": "FYNWGysYQmTM"
      },
      "execution_count": 53,
      "outputs": []
    },
    {
      "cell_type": "code",
      "source": [
        "x = torch.tensor([3.])\n",
        "w = torch.tensor([2.], requires_grad = True)\n",
        "b = torch.tensor([1.], requires_grad = True)\n",
        "a = F.relu(x*w + b)"
      ],
      "metadata": {
        "id": "KKQHl4UMYI0O"
      },
      "execution_count": 54,
      "outputs": []
    },
    {
      "cell_type": "code",
      "source": [
        "a"
      ],
      "metadata": {
        "colab": {
          "base_uri": "https://localhost:8080/"
        },
        "id": "VBdrMa5feQUh",
        "outputId": "fafa672c-e17c-4e39-eb31-e392ef9b5595"
      },
      "execution_count": 55,
      "outputs": [
        {
          "output_type": "execute_result",
          "data": {
            "text/plain": [
              "tensor([7.], grad_fn=<ReluBackward0>)"
            ]
          },
          "metadata": {},
          "execution_count": 55
        }
      ]
    },
    {
      "cell_type": "code",
      "source": [
        "grad(a, w, retain_graph=True)"
      ],
      "metadata": {
        "colab": {
          "base_uri": "https://localhost:8080/"
        },
        "id": "3hPscwxteSyP",
        "outputId": "0abe9f9e-8d60-4efd-ca6c-178d393216b4"
      },
      "execution_count": 56,
      "outputs": [
        {
          "output_type": "execute_result",
          "data": {
            "text/plain": [
              "(tensor([3.]),)"
            ]
          },
          "metadata": {},
          "execution_count": 56
        }
      ]
    },
    {
      "cell_type": "code",
      "source": [
        "grad(a, b)"
      ],
      "metadata": {
        "colab": {
          "base_uri": "https://localhost:8080/"
        },
        "id": "76ZiEgm0fDek",
        "outputId": "8f5f4679-ae9f-4dee-e6b2-b8572cffaff4"
      },
      "execution_count": 57,
      "outputs": [
        {
          "output_type": "execute_result",
          "data": {
            "text/plain": [
              "(tensor([1.]),)"
            ]
          },
          "metadata": {},
          "execution_count": 57
        }
      ]
    },
    {
      "cell_type": "markdown",
      "source": [
        "### MLP"
      ],
      "metadata": {
        "id": "T7Dw7WxKTuej"
      }
    },
    {
      "cell_type": "code",
      "source": [
        "class MultiLayerPerceptron(torch.nn.Module):\n",
        "  def __init__(self, num_features, num_classes):\n",
        "    super(MultiLayerPerceptron, self).__init__()\n",
        "\n",
        "    ## 1st hidden layer\n",
        "    self.linear_1 = torch.nn.Linear(num_feat, num_h1)\n",
        "\n",
        "    ## 2nd hidden layer\n",
        "    self.linear_2 = torch.nn.Linear(num_h1, num_h2)\n",
        "\n",
        "    ## 3rd hidden layer\n",
        "    self.linear_3 = torch.nn.Linear(num_h2, num_classes)\n",
        "\n",
        "  def forward(self, x):\n",
        "    out = self.linear_1(x)\n",
        "    out = F.relu(out)\n",
        "    out = self.linear_2(out)\n",
        "    out = F.relu(out)\n",
        "    logits = self.linear_3(out)\n",
        "    probas = F.log_softmax(logits, dim=1)\n",
        "    return logits, probas"
      ],
      "metadata": {
        "id": "Q2vkquWafK3i"
      },
      "execution_count": 58,
      "outputs": []
    },
    {
      "cell_type": "code",
      "source": [
        "torch.manual_seed(random_seed)\n",
        "model = MultiLayerPerceptron(num_features = num_features, num_classes= num_classes)\n",
        "\n",
        "model = model.to(device)\n",
        "\n",
        "optimizer = torch.optim.SGD(model.parameters(), lr = learning_rate)"
      ],
      "metadata": {
        "id": "JLZ3pxA9WAN6"
      },
      "execution_count": null,
      "outputs": []
    },
    {
      "cell_type": "code",
      "source": [
        "for epoch in range(num_epochs):\n",
        "  model.train()\n",
        "  for batch_idx, (features, targets) in enumerate(train_loader):\n",
        "   features = features.view(-1, 28*28).to(device)\n",
        "   targets = targets.to(device)\n",
        "\n",
        "   #FORWARD AND BACK PROP\n",
        "   logits, probas = model(features)\n",
        "   cost = F.cross_entropy(logits, targets)\n",
        "   optimizer.zero_grad()\n",
        "\n",
        "   cost.backward()\n",
        "\n",
        "   #UPDATE MODEL PARAMS\n",
        "   optimizer.step()\n",
        "\n",
        "  model.eval()\n",
        "  with torch.no_grad():\n",
        "    #compute accuracy"
      ],
      "metadata": {
        "id": "KjAL4xkVXBgL"
      },
      "execution_count": null,
      "outputs": []
    },
    {
      "cell_type": "code",
      "source": [],
      "metadata": {
        "id": "lMAYkyeTYepW"
      },
      "execution_count": null,
      "outputs": []
    }
  ]
}