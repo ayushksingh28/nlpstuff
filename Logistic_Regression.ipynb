{
  "nbformat": 4,
  "nbformat_minor": 0,
  "metadata": {
    "colab": {
      "provenance": []
    },
    "kernelspec": {
      "name": "python3",
      "display_name": "Python 3"
    },
    "language_info": {
      "name": "python"
    }
  },
  "cells": [
    {
      "cell_type": "code",
      "execution_count": 12,
      "metadata": {
        "id": "FhyN1J5hOPiG"
      },
      "outputs": [],
      "source": [
        "import torch\n",
        "import pandas as pd\n",
        "import numpy as np\n",
        "import matplotlib.pyplot as plt\n",
        "%matplotlib inline\n",
        "import torch.nn.functional as F"
      ]
    },
    {
      "cell_type": "code",
      "source": [
        "import time\n",
        "from torchvision import datasets, transforms\n",
        "from torch.utils.data import DataLoader"
      ],
      "metadata": {
        "id": "DzGazjJkTYJz"
      },
      "execution_count": 19,
      "outputs": []
    },
    {
      "cell_type": "markdown",
      "source": [
        "### Settings and Dataset"
      ],
      "metadata": {
        "id": "ID4se1EFbndb"
      }
    },
    {
      "cell_type": "code",
      "source": [
        "device = torch.device(\"cuda\" if torch.cuda.is_available() else \"cpu\")"
      ],
      "metadata": {
        "id": "hD_HIBqGbmCD"
      },
      "execution_count": 20,
      "outputs": []
    },
    {
      "cell_type": "code",
      "source": [
        "device"
      ],
      "metadata": {
        "colab": {
          "base_uri": "https://localhost:8080/"
        },
        "id": "wyAYlcMPb2ty",
        "outputId": "4082aab6-f0e3-4b20-d19f-d84b8be10306"
      },
      "execution_count": 21,
      "outputs": [
        {
          "output_type": "execute_result",
          "data": {
            "text/plain": [
              "device(type='cpu')"
            ]
          },
          "metadata": {},
          "execution_count": 21
        }
      ]
    },
    {
      "cell_type": "code",
      "source": [
        "#hyperparameters\n",
        "random_seed=123\n",
        "learning_rate = 0.01\n",
        "num_epochs = 10\n",
        "batch_size = 256\n",
        "\n",
        "#architecture\n",
        "num_features = 784\n",
        "num_classes = 10\n",
        "\n",
        "train_dataset = datasets.MNIST(root=\"./data\", train=True, transform=transforms.ToTensor(), download=True)\n",
        "test_dataset = datasets.MNIST(root=\"./data\", train=False, transform=transforms.ToTensor(), download=True)\n",
        "\n",
        "train_loader = DataLoader(dataset=train_dataset, batch_size=batch_size, shuffle=True)\n",
        "test_loader = DataLoader(dataset=test_dataset, batch_size=batch_size, shuffle=False)\n",
        "\n",
        "#checking the dataset\n",
        "for images, labels in train_loader:\n",
        "  print(\"Image batch dimensions\", images.shape)\n",
        "  print(\"Image label dimensions\", labels.shape)\n",
        "  break"
      ],
      "metadata": {
        "colab": {
          "base_uri": "https://localhost:8080/"
        },
        "id": "pLdzbt1zb36L",
        "outputId": "cdcde319-f2fa-4d08-9b89-1c0dee675996"
      },
      "execution_count": 25,
      "outputs": [
        {
          "output_type": "stream",
          "name": "stdout",
          "text": [
            "Image batch dimensions torch.Size([256, 1, 28, 28])\n",
            "Image label dimensions torch.Size([256])\n"
          ]
        }
      ]
    },
    {
      "cell_type": "code",
      "source": [
        "class SoftmaxRegression(torch.nn.Module):\n",
        "\n",
        "    def __init__(self, num_features, num_classes):\n",
        "        super(SoftmaxRegression, self).__init__()\n",
        "        self.linear = torch.nn.Linear(num_features, num_classes)\n",
        "\n",
        "        self.linear.weight.detach().zero_()\n",
        "        self.linear.bias.detach().zero_()\n",
        "\n",
        "    def forward(self, x):\n",
        "        logits = self.linear(x)\n",
        "        probas = F.softmax(logits, dim=1)\n",
        "        return logits, probas\n",
        "\n",
        "model = SoftmaxRegression(num_features=num_features,\n",
        "                          num_classes=num_classes)\n",
        "\n",
        "model.to(device)\n",
        "\n",
        "optimizer = torch.optim.SGD(model.parameters(), lr=learning_rate)"
      ],
      "metadata": {
        "id": "ZoCUIMhIcMQV"
      },
      "execution_count": 26,
      "outputs": []
    },
    {
      "cell_type": "code",
      "source": [
        "# Manual seed for deterministic data loader\n",
        "torch.manual_seed(random_seed)\n",
        "\n",
        "\n",
        "def compute_accuracy(model, data_loader):\n",
        "    correct_pred, num_examples = 0, 0\n",
        "\n",
        "    for features, targets in data_loader:\n",
        "        features = features.view(-1, 28*28).to(device)\n",
        "        targets = targets.to(device)\n",
        "        logits, probas = model(features)\n",
        "        _, predicted_labels = torch.max(probas, 1)\n",
        "        num_examples += targets.size(0)\n",
        "        correct_pred += (predicted_labels == targets).sum()\n",
        "\n",
        "    return correct_pred.float() / num_examples * 100\n",
        "\n",
        "\n",
        "start_time = time.time()\n",
        "epoch_costs = []\n",
        "for epoch in range(num_epochs):\n",
        "    avg_cost = 0.\n",
        "    for batch_idx, (features, targets) in enumerate(train_loader):\n",
        "\n",
        "        features = features.view(-1, 28*28).to(device)\n",
        "        targets = targets.to(device)\n",
        "\n",
        "        ### FORWARD AND BACK PROP\n",
        "        logits, probas = model(features)\n",
        "\n",
        "        # note that the PyTorch implementation of\n",
        "        # CrossEntropyLoss works with logits, not\n",
        "        # probabilities\n",
        "        cost = F.cross_entropy(logits, targets)\n",
        "        optimizer.zero_grad()\n",
        "        cost.backward()\n",
        "        avg_cost += cost\n",
        "\n",
        "        ### UPDATE MODEL PARAMETERS\n",
        "        optimizer.step()\n",
        "\n",
        "        ### LOGGING\n",
        "        if not batch_idx % 50:\n",
        "            print ('Epoch: %03d/%03d | Batch %03d/%03d | Cost: %.4f'\n",
        "                   %(epoch+1, num_epochs, batch_idx,\n",
        "                     len(train_dataset)//batch_size, cost))\n",
        "\n",
        "    with torch.set_grad_enabled(False):\n",
        "        avg_cost = avg_cost/len(train_dataset)\n",
        "        epoch_costs.append(avg_cost)\n",
        "        print('Epoch: %03d/%03d training accuracy: %.2f%%' % (\n",
        "              epoch+1, num_epochs,\n",
        "              compute_accuracy(model, train_loader)))\n",
        "        print('Time elapsed: %.2f min' % ((time.time() - start_time)/60))"
      ],
      "metadata": {
        "colab": {
          "base_uri": "https://localhost:8080/"
        },
        "id": "bDAdc0HsvDkW",
        "outputId": "02badce3-4858-4658-ba50-7342178acd4e"
      },
      "execution_count": 27,
      "outputs": [
        {
          "output_type": "stream",
          "name": "stdout",
          "text": [
            "Epoch: 001/010 | Batch 000/234 | Cost: 2.3026\n",
            "Epoch: 001/010 | Batch 050/234 | Cost: 1.8588\n",
            "Epoch: 001/010 | Batch 100/234 | Cost: 1.5193\n",
            "Epoch: 001/010 | Batch 150/234 | Cost: 1.3405\n",
            "Epoch: 001/010 | Batch 200/234 | Cost: 1.2268\n",
            "Epoch: 001/010 training accuracy: 81.52%\n",
            "Time elapsed: 0.28 min\n",
            "Epoch: 002/010 | Batch 000/234 | Cost: 1.1732\n",
            "Epoch: 002/010 | Batch 050/234 | Cost: 0.9597\n",
            "Epoch: 002/010 | Batch 100/234 | Cost: 0.9617\n",
            "Epoch: 002/010 | Batch 150/234 | Cost: 0.9100\n",
            "Epoch: 002/010 | Batch 200/234 | Cost: 0.8789\n",
            "Epoch: 002/010 training accuracy: 83.72%\n",
            "Time elapsed: 0.77 min\n",
            "Epoch: 003/010 | Batch 000/234 | Cost: 0.8430\n",
            "Epoch: 003/010 | Batch 050/234 | Cost: 0.8486\n",
            "Epoch: 003/010 | Batch 100/234 | Cost: 0.7320\n",
            "Epoch: 003/010 | Batch 150/234 | Cost: 0.7345\n",
            "Epoch: 003/010 | Batch 200/234 | Cost: 0.6827\n",
            "Epoch: 003/010 training accuracy: 85.23%\n",
            "Time elapsed: 1.13 min\n",
            "Epoch: 004/010 | Batch 000/234 | Cost: 0.7631\n",
            "Epoch: 004/010 | Batch 050/234 | Cost: 0.7244\n",
            "Epoch: 004/010 | Batch 100/234 | Cost: 0.6826\n",
            "Epoch: 004/010 | Batch 150/234 | Cost: 0.6821\n",
            "Epoch: 004/010 | Batch 200/234 | Cost: 0.6225\n",
            "Epoch: 004/010 training accuracy: 85.94%\n",
            "Time elapsed: 1.41 min\n",
            "Epoch: 005/010 | Batch 000/234 | Cost: 0.6133\n",
            "Epoch: 005/010 | Batch 050/234 | Cost: 0.6486\n",
            "Epoch: 005/010 | Batch 100/234 | Cost: 0.6173\n",
            "Epoch: 005/010 | Batch 150/234 | Cost: 0.5531\n",
            "Epoch: 005/010 | Batch 200/234 | Cost: 0.5449\n",
            "Epoch: 005/010 training accuracy: 86.48%\n",
            "Time elapsed: 1.68 min\n",
            "Epoch: 006/010 | Batch 000/234 | Cost: 0.5236\n",
            "Epoch: 006/010 | Batch 050/234 | Cost: 0.6362\n",
            "Epoch: 006/010 | Batch 100/234 | Cost: 0.5328\n",
            "Epoch: 006/010 | Batch 150/234 | Cost: 0.5011\n",
            "Epoch: 006/010 | Batch 200/234 | Cost: 0.5279\n",
            "Epoch: 006/010 training accuracy: 86.94%\n",
            "Time elapsed: 1.95 min\n",
            "Epoch: 007/010 | Batch 000/234 | Cost: 0.5638\n",
            "Epoch: 007/010 | Batch 050/234 | Cost: 0.5202\n",
            "Epoch: 007/010 | Batch 100/234 | Cost: 0.5220\n",
            "Epoch: 007/010 | Batch 150/234 | Cost: 0.5687\n",
            "Epoch: 007/010 | Batch 200/234 | Cost: 0.5477\n",
            "Epoch: 007/010 training accuracy: 87.31%\n",
            "Time elapsed: 2.23 min\n",
            "Epoch: 008/010 | Batch 000/234 | Cost: 0.5146\n",
            "Epoch: 008/010 | Batch 050/234 | Cost: 0.5978\n",
            "Epoch: 008/010 | Batch 100/234 | Cost: 0.4464\n",
            "Epoch: 008/010 | Batch 150/234 | Cost: 0.4960\n",
            "Epoch: 008/010 | Batch 200/234 | Cost: 0.5451\n",
            "Epoch: 008/010 training accuracy: 87.55%\n",
            "Time elapsed: 2.51 min\n",
            "Epoch: 009/010 | Batch 000/234 | Cost: 0.4338\n",
            "Epoch: 009/010 | Batch 050/234 | Cost: 0.4209\n",
            "Epoch: 009/010 | Batch 100/234 | Cost: 0.4146\n",
            "Epoch: 009/010 | Batch 150/234 | Cost: 0.4416\n",
            "Epoch: 009/010 | Batch 200/234 | Cost: 0.5036\n",
            "Epoch: 009/010 training accuracy: 87.81%\n",
            "Time elapsed: 2.80 min\n",
            "Epoch: 010/010 | Batch 000/234 | Cost: 0.5045\n",
            "Epoch: 010/010 | Batch 050/234 | Cost: 0.5507\n",
            "Epoch: 010/010 | Batch 100/234 | Cost: 0.4637\n",
            "Epoch: 010/010 | Batch 150/234 | Cost: 0.4735\n",
            "Epoch: 010/010 | Batch 200/234 | Cost: 0.4708\n",
            "Epoch: 010/010 training accuracy: 88.01%\n",
            "Time elapsed: 3.07 min\n"
          ]
        }
      ]
    },
    {
      "cell_type": "code",
      "source": [
        "%matplotlib inline\n",
        "import matplotlib\n",
        "import matplotlib.pyplot as plt\n",
        "\n",
        "\n",
        "plt.plot(epoch_costs)\n",
        "plt.ylabel('Avg Cross Entropy Loss\\n(approximated by averaging over minibatches)')\n",
        "plt.xlabel('Epoch')\n",
        "plt.show()"
      ],
      "metadata": {
        "colab": {
          "base_uri": "https://localhost:8080/",
          "height": 449
        },
        "id": "K8y_KGDJvHM6",
        "outputId": "6fba4510-b21e-4ac5-bf04-3234a4571571"
      },
      "execution_count": 28,
      "outputs": [
        {
          "output_type": "display_data",
          "data": {
            "text/plain": [
              "<Figure size 640x480 with 1 Axes>"
            ],
            "image/png": "[encoded data removed]"
          },
          "metadata": {}
        }
      ]
    },
    {
      "cell_type": "code",
      "source": [
        "print('Test accuracy: %.2f%%' % (compute_accuracy(model, test_loader)))"
      ],
      "metadata": {
        "colab": {
          "base_uri": "https://localhost:8080/"
        },
        "id": "VMp_qSUBvM5S",
        "outputId": "3aaeca61-20c3-4b1d-d212-18712d88c1c6"
      },
      "execution_count": 29,
      "outputs": [
        {
          "output_type": "stream",
          "name": "stdout",
          "text": [
            "Test accuracy: 88.81%\n"
          ]
        }
      ]
    },
    {
      "cell_type": "code",
      "source": [
        "for features, targets in test_loader:\n",
        "    break\n",
        "\n",
        "fig, ax = plt.subplots(1, 4)\n",
        "for i in range(4):\n",
        "    ax[i].imshow(features[i].view(28, 28), cmap=matplotlib.cm.binary)\n",
        "\n",
        "plt.show()"
      ],
      "metadata": {
        "colab": {
          "base_uri": "https://localhost:8080/",
          "height": 172
        },
        "id": "xdkOcbH-vO2q",
        "outputId": "f4a80471-7b9e-4dac-c9f6-0f50c3fac55f"
      },
      "execution_count": 30,
      "outputs": [
        {
          "output_type": "display_data",
          "data": {
            "text/plain": [
              "<Figure size 640x480 with 4 Axes>"
            ],
            "image/png": "[encoded data removed]"
          },
          "metadata": {}
        }
      ]
    },
    {
      "cell_type": "code",
      "source": [
        "_, predictions = model.forward(features[:4].view(-1, 28*28).to(device))\n",
        "predictions = torch.argmax(predictions, dim=1)\n",
        "print('Predicted labels', predictions)"
      ],
      "metadata": {
        "colab": {
          "base_uri": "https://localhost:8080/"
        },
        "id": "tQ07_DNyvRK4",
        "outputId": "6f0de279-1240-410a-8da5-5c6f43ee1e7d"
      },
      "execution_count": 31,
      "outputs": [
        {
          "output_type": "stream",
          "name": "stdout",
          "text": [
            "Predicted labels tensor([7, 2, 1, 0])\n"
          ]
        }
      ]
    },
    {
      "cell_type": "code",
      "source": [],
      "metadata": {
        "id": "ldeM_JxIvTqs"
      },
      "execution_count": null,
      "outputs": []
    }
  ]
}